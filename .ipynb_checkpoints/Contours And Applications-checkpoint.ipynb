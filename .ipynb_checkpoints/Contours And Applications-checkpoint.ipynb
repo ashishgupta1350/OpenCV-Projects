{
 "cells": [
  {
   "cell_type": "code",
   "execution_count": 32,
   "metadata": {},
   "outputs": [],
   "source": [
    "import numpy as np\n",
    "import cv2\n",
    "\n",
    "def segment(image):\n",
    "    #image=cv2.cvtColor()\n",
    "    image=cv2.cvtColor(image,cv2.COLOR_BGR2LAB)\n",
    "    cv2.imshow('BGR2',image)\n",
    "    image=cv2.inRange(image[:,:,2],140,220)\n",
    "    return image\n",
    "\n",
    "im = cv2.imread('test.jpg')\n",
    "imgray = cv2.cvtColor(im,cv2.COLOR_BGR2GRAY)\n",
    "# thresh=segment(im)\n",
    "ret,thresh = cv2.threshold(imgray,127,255,0)\n",
    "image, contours, hierarchy = cv2.findContours(thresh,cv2.RETR_TREE,cv2.CHAIN_APPROX_SIMPLE)\n",
    "img=cv2.drawContours(im,contours,2,(0,255,0),3)\n",
    "img[382][189]=[1,1,1]\n",
    "img[382][189]=[1,1,1]\n",
    "img[382][189]=[1,1,1]\n",
    "img[382][189]=[1,1,1]\n",
    "img[382][189]=[1,1,1] # taken from code below, it actually finds the centroid of the image :D\n",
    "\n",
    "\n",
    "cv2.imshow('image',img)\n",
    "cv2.waitKey(0)\n",
    "cv2.destroyAllWindows()\n"
   ]
  },
  {
   "cell_type": "code",
   "execution_count": 27,
   "metadata": {},
   "outputs": [
    {
     "name": "stdout",
     "output_type": "stream",
     "text": [
      "Centroid is :  189   382\n",
      "perimenter is  605.470123291\n"
     ]
    }
   ],
   "source": [
    "import numpy as np\n",
    "import cv2\n",
    "\n",
    "img=cv2.imread('test.jpg',0)# loads in black and white\n",
    "ret,thresh=cv2.threshold(img,127,255,0)\n",
    "_,contours,_=cv2.findContours(thresh,cv2.RETR_TREE,cv2.CHAIN_APPROX_SIMPLE) # dont know what?\n",
    "cnt=contours[1]\n",
    "M=cv2.moments(cnt)\n",
    "# print M\n",
    "cx = int(M['m10']/M['m00'])\n",
    "cy = int(M['m01']/M['m00'])\n",
    "print 'Centroid is : ', cx,' ',cy\n",
    "\n",
    "perimeter= cv2.arcLength(cnt,True) # closed contour\n",
    "print 'perimenter is ', perimeter\n",
    "# print(cnt)"
   ]
  },
  {
   "cell_type": "code",
   "execution_count": 49,
   "metadata": {},
   "outputs": [],
   "source": [
    "# contour approximations and applications of Douglas=-peucker Algorithms\n",
    "\n",
    "import numpy as np\n",
    "import cv2\n",
    "img=cv2.imread('hand.jpg')\n",
    "img_gray=cv2.cvtColor(img,cv2.COLOR_BGR2GRAY)\n",
    "ret,thresh=cv2.threshold(img_gray,127,255,0)\n",
    "_,contours,_=cv2.findContours(thresh,cv2.RETR_TREE,cv2.CHAIN_APPROX_SIMPLE)"
   ]
  },
  {
   "cell_type": "code",
   "execution_count": 50,
   "metadata": {},
   "outputs": [
    {
     "name": "stdout",
     "output_type": "stream",
     "text": [
      "{'mu02': 191734.84255218506, 'mu03': 430534.0204849243, 'm11': 46176671.75, 'nu02': 0.1462480445088271, 'm12': 12443059316.15, 'mu21': 453213.5906005576, 'mu20': 110996.33272683248, 'nu20': 0.08466378042129821, 'm30': 3914333929.4500003, 'nu21': 0.010216195802277546, 'mu11': -87853.77280445397, 'mu12': -767096.8040184975, 'nu11': -0.06701151603093303, 'nu12': -0.017291650805902933, 'm02': 83274785.5, 'm03': 22535675142.9, 'm00': 1145.0, 'm01': 308431.6666666666, 'mu30': 67071.80007266998, 'nu30': 0.0015119110648152015, 'nu03': 0.009704960186624966, 'm10': 171749.16666666666, 'm20': 25873246.333333332, 'm21': 6943641741.216666}\n",
      "perimenter :  175.96551013\n"
     ]
    }
   ],
   "source": [
    "cnt=contours[2]\n",
    "M=cv2.moments(cnt)\n",
    "print M\n",
    "# we can now have the parameters \n",
    "perimeter=cv2.arcLength(cnt,True)\n",
    "print 'perimenter : ' , perimeter\n"
   ]
  },
  {
   "cell_type": "code",
   "execution_count": 61,
   "metadata": {},
   "outputs": [
    {
     "name": "stdout",
     "output_type": "stream",
     "text": [
      "15\n"
     ]
    }
   ],
   "source": [
    "\n",
    "# contour approximations and applications of Douglas=-peucker Algorithms\n",
    "\n",
    "import numpy as np\n",
    "import cv2\n",
    "img=cv2.imread('hand.jpg')\n",
    "img_gray=cv2.cvtColor(img,cv2.COLOR_BGR2GRAY)\n",
    "ret,thresh=cv2.threshold(img_gray,127,255,0)\n",
    "_,contours,_=cv2.findContours(thresh,cv2.RETR_TREE,cv2.CHAIN_APPROX_SIMPLE)\n",
    "cnt=contours[1]\n",
    "epsilon=0.01*cv2.arcLength(cnt,True)\n",
    "approx=cv2.approxPolyDP(cnt,epsilon,True)\n",
    "print len(approx)\n",
    "img=cv2.drawContours(img,approx,-1,(255,100,0),10)\n",
    "newImg=cv2.drawContours(img,contours,-1,(0,255,0),2)\n",
    "cv2.imshow('image',img)\n",
    "cv2.imshow('newImage',newImg)\n",
    "\n",
    "\n",
    "cv2.imshow('image',img)\n",
    "cv2.waitKey(0)\n",
    "cv2.destroyAllWindows()\n"
   ]
  },
  {
   "cell_type": "code",
   "execution_count": 85,
   "metadata": {},
   "outputs": [
    {
     "name": "stdout",
     "output_type": "stream",
     "text": [
      "False\n"
     ]
    }
   ],
   "source": [
    "# CONVEX HULL AND APPLICATIONS\n",
    "\n",
    "# CHECK IF THE FIST IS CONVEX IMAGE OR NOT. THEN CHECK IF HAND IS A CONVEX HULL OR NOT\n",
    "# USING THESE 2 FLAGS/ BOOL VALUES, WE CAN SAFELY MAKE A GREAT APPLICATION FOR PLAYING CHROME DINASOUR GAME:D\n",
    "\n",
    "# YES THE FIST IS NOT CONVEX IMAGE AND IS SIMILAR TO A RECTANGLE OR A CIRCLE WHICH IS A GOOD NEWS\n",
    "\n",
    "import numpy as np\n",
    "import cv2\n",
    "\n",
    "def segment(image):\n",
    "    #image=cv2.cvtColor()\n",
    "    image=cv2.cvtColor(image,cv2.COLOR_BGR2LAB)\n",
    "#     cv2.imshow('Inside Segment: ',image)\n",
    "    image=cv2.inRange(image[:,:,2],140,255) # the hand is expected to be filtered out of the image\n",
    "    \n",
    "    return image\n",
    "\n",
    "img=cv2.imread('test.jpg')\n",
    "thresh= segment(img)\n",
    "# img_gray=cv2.cvtColor(img,cv2.COLOR_BGR2GRAY)\n",
    "# ret,thresh=cv2.threshold(img_gray,127,255,0)\n",
    "_,contours,_=cv2.findContours(thresh,cv2.RETR_EXTERNAL,cv2.CHAIN_APPROX_SIMPLE)\n",
    "cnt=contours[1]\n",
    "# epsilon=0.01*cv2.arcLength(cnt,True)\n",
    "# approx=cv2.approxPolyDP(cnt,epsilon,True)\n",
    "# print len(approx)\n",
    "# img=cv2.drawContours(img,approx,-1,(255,100,0),10)\n",
    "newImg=cv2.drawContours(img,contours,-1,(0,255,0),2)\n",
    "# cv2.imshow('image',img)\n",
    "cv2.imshow('image',newImg)\n",
    "print cv2.isContourConvex(cnt)\n",
    "\n",
    "x,y,w,h = cv2.boundingRect(cnt)\n",
    "img = cv2.rectangle(img,(x,y),(x+w,y+h),(0,255,0),2)\n",
    "\n",
    "\n",
    "cv2.imshow('image',img)\n",
    "cv2.waitKey(0)\n",
    "cv2.destroyAllWindows()\n"
   ]
  }
 ],
 "metadata": {
  "kernelspec": {
   "display_name": "Python 2",
   "language": "python",
   "name": "python2"
  },
  "language_info": {
   "codemirror_mode": {
    "name": "ipython",
    "version": 2
   },
   "file_extension": ".py",
   "mimetype": "text/x-python",
   "name": "python",
   "nbconvert_exporter": "python",
   "pygments_lexer": "ipython2",
   "version": "2.7.14"
  }
 },
 "nbformat": 4,
 "nbformat_minor": 2
}
