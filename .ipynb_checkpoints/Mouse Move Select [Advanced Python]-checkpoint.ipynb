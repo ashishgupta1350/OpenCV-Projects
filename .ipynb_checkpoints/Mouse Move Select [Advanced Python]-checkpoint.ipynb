{
 "cells": [
  {
   "cell_type": "code",
   "execution_count": 1,
   "metadata": {},
   "outputs": [
    {
     "ename": "ImportError",
     "evalue": "No module named cv",
     "output_type": "error",
     "traceback": [
      "\u001b[1;31m---------------------------------------------------------------------------\u001b[0m",
      "\u001b[1;31mImportError\u001b[0m                               Traceback (most recent call last)",
      "\u001b[1;32m<ipython-input-1-9ef4eac5e561>\u001b[0m in \u001b[0;36m<module>\u001b[1;34m()\u001b[0m\n\u001b[0;32m      1\u001b[0m \u001b[1;32mimport\u001b[0m \u001b[0mcv2\u001b[0m\u001b[1;33m\u001b[0m\u001b[0m\n\u001b[1;32m----> 2\u001b[1;33m \u001b[1;32mimport\u001b[0m \u001b[0mcv2\u001b[0m\u001b[1;33m.\u001b[0m\u001b[0mcv\u001b[0m \u001b[1;32mas\u001b[0m \u001b[0mcv\u001b[0m\u001b[1;33m\u001b[0m\u001b[0m\n\u001b[0m\u001b[0;32m      3\u001b[0m \u001b[1;32mfrom\u001b[0m \u001b[0mtime\u001b[0m \u001b[1;32mimport\u001b[0m \u001b[0mtime\u001b[0m\u001b[1;33m\u001b[0m\u001b[0m\n\u001b[0;32m      4\u001b[0m \u001b[0mboxes\u001b[0m \u001b[1;33m=\u001b[0m \u001b[1;33m[\u001b[0m\u001b[1;33m]\u001b[0m\u001b[1;33m\u001b[0m\u001b[0m\n\u001b[0;32m      5\u001b[0m \u001b[1;32mdef\u001b[0m \u001b[0mon_mouse\u001b[0m\u001b[1;33m(\u001b[0m\u001b[0mevent\u001b[0m\u001b[1;33m,\u001b[0m \u001b[0mx\u001b[0m\u001b[1;33m,\u001b[0m \u001b[0my\u001b[0m\u001b[1;33m,\u001b[0m \u001b[0mflags\u001b[0m\u001b[1;33m,\u001b[0m \u001b[0mparams\u001b[0m\u001b[1;33m)\u001b[0m\u001b[1;33m:\u001b[0m\u001b[1;33m\u001b[0m\u001b[0m\n",
      "\u001b[1;31mImportError\u001b[0m: No module named cv"
     ]
    }
   ],
   "source": [
    "import cv2\n",
    "import cv2.cv as cv\n",
    "from time import time\n",
    "boxes = []\n",
    "def on_mouse(event, x, y, flags, params):\n",
    "    # global img\n",
    "    t = time()\n",
    "\n",
    "    if event == cv2.EVENT_LBUTTONDOWN:\n",
    "         print 'Start Mouse Position: '+str(x)+', '+str(y)\n",
    "         sbox = [x, y]\n",
    "         boxes.append(sbox)\n",
    "         # print count\n",
    "         # print sbox\n",
    "\n",
    "    elif event == cv2.EVENT_LBUTTONUP:\n",
    "        print 'End Mouse Position: '+str(x)+', '+str(y)\n",
    "        ebox = [x, y]\n",
    "        boxes.append(ebox)\n",
    "        print boxes\n",
    "        crop = img[boxes[-2][1]:boxes[-1][1],boxes[-2][0]:boxes[-1][0]]\n",
    "\n",
    "        cv2.imshow('crop',crop)\n",
    "        k =  cv2.waitKey(0)\n",
    "        if ord('r')== k:\n",
    "            cv2.imwrite('Crop'+str(t)+'.jpg',crop)\n",
    "            print \"Written to file\"\n",
    "count = 0\n",
    "while(1):\n",
    "    count += 1\n",
    "    img = cv2.imread('path.img',0)\n",
    "    # img = cv2.blur(img, (3,3))\n",
    "    img = cv2.resize(img, None, fx = 0.25,fy = 0.25)\n",
    "\n",
    "    cv2.namedWindow('real image')\n",
    "    cv.SetMouseCallback('real image', on_mouse, 0)\n",
    "    cv2.imshow('real image', img)\n",
    "    if count < 50:\n",
    "        if cv2.waitKey(33) == 27:\n",
    "            cv2.destroyAllWindows()\n",
    "            break\n",
    "    elif count >= 50:\n",
    "        if cv2.waitKey(0) == 27:\n",
    "            cv2.destroyAllWindows()\n",
    "            break\n",
    "        count = 0"
   ]
  }
 ],
 "metadata": {
  "kernelspec": {
   "display_name": "Python 2",
   "language": "python",
   "name": "python2"
  },
  "language_info": {
   "codemirror_mode": {
    "name": "ipython",
    "version": 2
   },
   "file_extension": ".py",
   "mimetype": "text/x-python",
   "name": "python",
   "nbconvert_exporter": "python",
   "pygments_lexer": "ipython2",
   "version": "2.7.14"
  }
 },
 "nbformat": 4,
 "nbformat_minor": 2
}
