{
 "cells": [
  {
   "cell_type": "code",
   "execution_count": 12,
   "metadata": {},
   "outputs": [],
   "source": [
    "import cv2\n",
    "import numpy as np\n",
    "cv2.namedWindow('Target',cv2.WINDOW_FREERATIO)\n",
    "img = cv2.imread('colors.jpg',0)\n",
    "rows,cols = img.shape\n",
    "\n",
    "M = cv2.getRotationMatrix2D((cols/2,rows/2),-90,2)\n",
    "# THIS IS COUNTER CLOCKWISE AND +90 IS CLOCKWISE\n",
    "dst = cv2.warpAffine(img,M,(cols,rows))\n",
    "dst = cv2.warpAffine(dst,M,(cols,rows))\n",
    "\n",
    "cv2.imshow('Target',dst)\n",
    "cv2.waitKey(0)\n",
    "cv2.destroyAllWindows()"
   ]
  }
 ],
 "metadata": {
  "kernelspec": {
   "display_name": "Python 2",
   "language": "python",
   "name": "python2"
  },
  "language_info": {
   "codemirror_mode": {
    "name": "ipython",
    "version": 2
   },
   "file_extension": ".py",
   "mimetype": "text/x-python",
   "name": "python",
   "nbconvert_exporter": "python",
   "pygments_lexer": "ipython2",
   "version": "2.7.14"
  }
 },
 "nbformat": 4,
 "nbformat_minor": 2
}
