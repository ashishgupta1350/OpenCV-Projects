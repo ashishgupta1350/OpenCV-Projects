{
 "cells": [
  {
   "cell_type": "code",
   "execution_count": null,
   "metadata": {
    "collapsed": true
   },
   "outputs": [],
   "source": [
    "import numpy as np\n",
    "import cv2\n",
    "\n",
    "#ret,frame= cv2.videoCapture(0)\n",
    "\n",
    "while True:\n",
    "    k=cv2.waitKey(1) & 0xFF\n",
    "    if k==ord('q') or k==ord('Q'):\n",
    "        cv2.destroyAllWindows()\n",
    "        break\n",
    "    \n",
    "    # take a part of the image to detect the hand in\n",
    "    # mask= some part of image // some fraction of the image\n",
    "    # apply contour detection on that part and detect whether hand is open or hand is closed\n",
    "    # IF HAND IS OPEN, THEN PRESS SPACE ELSE DONT DO ANYTHING. SIMPLE. WE CAN ALSO THRESHOLD THE IMAGE SO THAT HAND IS ONLY \n",
    "    # VISIBLE TO THE MASK. THIS REDUCES ERROR AND INCREASE SUCCESS RATE\n",
    "    "
   ]
  }
 ],
 "metadata": {
  "kernelspec": {
   "display_name": "Python 2",
   "language": "python",
   "name": "python2"
  },
  "language_info": {
   "codemirror_mode": {
    "name": "ipython",
    "version": 2
   },
   "file_extension": ".py",
   "mimetype": "text/x-python",
   "name": "python",
   "nbconvert_exporter": "python",
   "pygments_lexer": "ipython2",
   "version": "2.7.14"
  }
 },
 "nbformat": 4,
 "nbformat_minor": 2
}
