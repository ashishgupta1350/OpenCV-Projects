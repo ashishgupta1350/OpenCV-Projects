{
 "cells": [
  {
   "cell_type": "code",
   "execution_count": 64,
   "metadata": {},
   "outputs": [],
   "source": [
    "# this thing is dope!\n",
    "\n",
    "import numpy as np\n",
    "import cv2\n",
    "\n",
    "im = cv2.imread('test.jpg')\n",
    "img=im.copy()\n",
    "# print(im.shape)\n",
    "imgray = cv2.cvtColor(im,cv2.COLOR_BGR2GRAY)\n",
    "ret,thresh = cv2.threshold(imgray,127,255,0)\n",
    "image, contours, hierarchy = cv2.findContours(thresh,cv2.RETR_TREE,cv2.CHAIN_APPROX_SIMPLE)\n",
    "cnt=contours[5]\n",
    "# cnt=contours[2]\n",
    "# create a mask of it\n",
    "mask=np.zeros(im.shape,np.uint8)\n",
    "mask=cv2.drawContours(mask,contours,5,(255,10,10),2)\n",
    "img=cv2.drawContours(img,contours,5,(255,10,10),2)\n",
    "im=cv2.drawContours(im,contours,5,(0,255,0),2)\n",
    "\n",
    "rows=im.shape[0]\n",
    "cols=im.shape[1]\n",
    "for r in range(rows):\n",
    "    for c in range(cols):\n",
    "        dist = cv2.pointPolygonTest(cnt,(c,r),True)\n",
    "        x=(255-(abs(dist)*.8))\n",
    "        if(dist<0):\n",
    "            if(x<255 and x>0):\n",
    "                im[r][c][0]=x\n",
    "            else :\n",
    "                im[r][c][0]=0\n",
    "            im[r][c][1]=0\n",
    "            im[r][c][2]=0\n",
    "        elif dist>0:\n",
    "            x=(255-(abs(dist)*5))\n",
    "            im[r][c][0]=0\n",
    "            if(x<255 and x>0):\n",
    "                im[r][c][2]=x\n",
    "            else :\n",
    "                im[r][c][2]=0\n",
    "            im[r][c][1]=0\n",
    "        else :\n",
    "            im[r][c][0]=0\n",
    "            im[r][c][1]=0\n",
    "            im[r][c][2]=255\n",
    "            \n",
    "                \n",
    "\n",
    "cv2.imshow('Orignal Image',img)\n",
    "cv2.imshow('masked',im)\n",
    "\n",
    "cv2.waitKey(0)\n",
    "cv2.destroyAllWindows()\n",
    "\n",
    "\n",
    "\n"
   ]
  },
  {
   "cell_type": "code",
   "execution_count": 7,
   "metadata": {},
   "outputs": [
    {
     "name": "stdout",
     "output_type": "stream",
     "text": [
      "[0, 1, 4, 9, 16, 25, 36, 49, 64, 81]\n"
     ]
    }
   ],
   "source": [
    "# lambda function in action\n",
    "result=map(lambda x:x**2,range(10))\n",
    "print result"
   ]
  }
 ],
 "metadata": {
  "kernelspec": {
   "display_name": "Python 2",
   "language": "python",
   "name": "python2"
  },
  "language_info": {
   "codemirror_mode": {
    "name": "ipython",
    "version": 2
   },
   "file_extension": ".py",
   "mimetype": "text/x-python",
   "name": "python",
   "nbconvert_exporter": "python",
   "pygments_lexer": "ipython2",
   "version": "2.7.14"
  }
 },
 "nbformat": 4,
 "nbformat_minor": 2
}
