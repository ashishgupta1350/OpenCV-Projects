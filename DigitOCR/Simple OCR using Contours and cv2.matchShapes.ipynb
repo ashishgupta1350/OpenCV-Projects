{
 "cells": [
  {
   "cell_type": "raw",
   "metadata": {},
   "source": [
    "# problem statement \n",
    "# documentation is great!  \n",
    "\n",
    "# Compare images of digits or letters using cv2.matchShapes(). \n",
    "# (That would be a simple step towards OCR )\n"
   ]
  },
  {
   "cell_type": "code",
   "execution_count": 2,
   "metadata": {
    "collapsed": true
   },
   "outputs": [],
   "source": [
    "# load the images into 0 to 9 containers. \n",
    "# load a custom image and run it through all the 10 images. \n",
    "# this will find the dismatch << smaller the closer << of all the image matching pairs\n",
    "# one with the minimum value is the actual digit\n",
    "# lets see\n"
   ]
  },
  {
   "cell_type": "code",
   "execution_count": 33,
   "metadata": {},
   "outputs": [
    {
     "name": "stdout",
     "output_type": "stream",
     "text": [
      "Ok, so I see that the digit is :  7\n"
     ]
    }
   ],
   "source": [
    "import numpy as np\n",
    "import cv2\n",
    "\n",
    "\n",
    "img0=cv2.imread('zero.png',0)\n",
    "img1=cv2.imread('one.jpg',0)\n",
    "img2=cv2.imread('two.jpg',0)\n",
    "img3=cv2.imread('three.jpg',0)\n",
    "img4=cv2.imread('four.jpg',0)\n",
    "img5=cv2.imread('five.jpg',0)\n",
    "img6=cv2.imread('six.jpg',0)\n",
    "img7=cv2.imread('seven.jpg',0)\n",
    "img8=cv2.imread('eight.jpg',0)\n",
    "img9=cv2.imread('nine.jpg',0)\n",
    "\n",
    "threshedDetector=[]\n",
    "ret,thresh=cv2.threshold(img0,127,255,0)\n",
    "threshedDetector.append(thresh)\n",
    "ret,thresh=cv2.threshold(img1,127,255,0)\n",
    "threshedDetector.append(thresh)\n",
    "ret,thresh=cv2.threshold(img2,127,255,0)\n",
    "threshedDetector.append(thresh)\n",
    "ret,thresh=cv2.threshold(img3,127,255,0)\n",
    "threshedDetector.append(thresh)\n",
    "ret,thresh=cv2.threshold(img4,127,255,0)\n",
    "threshedDetector.append(thresh)\n",
    "ret,thresh=cv2.threshold(img5,127,255,0)\n",
    "threshedDetector.append(thresh)\n",
    "ret,thresh=cv2.threshold(img6,127,255,0)\n",
    "threshedDetector.append(thresh)\n",
    "ret,thresh=cv2.threshold(img7,127,255,0)\n",
    "threshedDetector.append(thresh)\n",
    "ret,thresh=cv2.threshold(img8,127,255,0)\n",
    "threshedDetector.append(thresh)\n",
    "ret,thresh=cv2.threshold(img9,127,255,0)\n",
    "threshedDetector.append(thresh)\n",
    "\n",
    "sample=cv2.imread('seven.jpg',0)\n",
    "ret,thresh=cv2.threshold(sample,127,255,0)\n",
    "_,contours,_=cv2.findContours(thresh,2,1)\n",
    "sampleContours=contours\n",
    "# we got the sample contours\n",
    "results=[]\n",
    "for number in threshedDetector:\n",
    "    _,cntsOfDigits,_=cv2.findContours(number,2,1)\n",
    "#     tem=cv2.drawContours(img0,cntsOfDigits,1,(0,255,0),2)\n",
    "#     cv2.imshow('temp',tem)\n",
    "#     cv2.waitKey(0)\n",
    "#     cv2.destroyAllWindows()\n",
    "    cnt_dig=cntsOfDigits[1]\n",
    "    cnt_sample=sampleContours[1]\n",
    "    ret=cv2.matchShapes(cnt_dig,cnt_sample,1,0.0)\n",
    "    results.append(ret)\n",
    "    \n",
    "\n",
    "minIndex=0\n",
    "minVal=1000000\n",
    "for i in range(len(results)):\n",
    "    if(results[i]<minVal):\n",
    "        minVal=results[i]\n",
    "        minIndex=i\n",
    "\n",
    "print 'Ok, so I see that the digit is : ',minIndex\n"
   ]
  }
 ],
 "metadata": {
  "kernelspec": {
   "display_name": "Python 2",
   "language": "python",
   "name": "python2"
  },
  "language_info": {
   "codemirror_mode": {
    "name": "ipython",
    "version": 2
   },
   "file_extension": ".py",
   "mimetype": "text/x-python",
   "name": "python",
   "nbconvert_exporter": "python",
   "pygments_lexer": "ipython2",
   "version": "2.7.14"
  }
 },
 "nbformat": 4,
 "nbformat_minor": 2
}
