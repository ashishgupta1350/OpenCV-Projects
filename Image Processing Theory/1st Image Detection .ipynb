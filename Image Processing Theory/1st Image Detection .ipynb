{
 "cells": [
  {
   "cell_type": "code",
   "execution_count": 1,
   "metadata": {
    "collapsed": true
   },
   "outputs": [],
   "source": [
    "#         Take each frame of the video\n",
    "#         Convert from BGR to HSV color-space\n",
    "#         We threshold the HSV image for a range of blue color\n",
    "#         Now extract the blue object alone, we can do whatever on that image we want.\n",
    "\n",
    "\n",
    "# cv::inRange(hsv_image, cv::Scalar(0, 100, 100), cv::Scalar(10, 255, 255), lower_red_hue_range);\n",
    "# cv::inRange(hsv_image, cv::Scalar(160, 100, 100), cv::Scalar(179, 255, 255), upper_red_hue_range);\n",
    "\n"
   ]
  },
  {
   "cell_type": "code",
   "execution_count": 1,
   "metadata": {
    "collapsed": true
   },
   "outputs": [],
   "source": [
    "import cv2\n",
    "import numpy as np"
   ]
  },
  {
   "cell_type": "code",
   "execution_count": 40,
   "metadata": {
    "collapsed": true
   },
   "outputs": [],
   "source": [
    "import cv2\n",
    "import numpy as np\n",
    "cap=cv2.VideoCapture(0)\n",
    "while(True):\n",
    "    ret,img=cap.read()\n",
    "    ###img=cv2.imread('test.jpg')\n",
    "    # this image is in bgr format(due to historical reasons)\n",
    "    if ret==True:\n",
    "        img_hsv=cv2.cvtColor(img,cv2.COLOR_BGR2HSV)\n",
    "        # lets have a range of colors for which red is defined\n",
    "        low_red_range=np.array([110,50,50])\n",
    "        upper_red_range=np.array([130,255,255])\n",
    "        # lower_blue = np.array([110,50,50])\n",
    "        # upper_blue = np.array([130,255,255])\n",
    "\n",
    "        mask=cv2.inRange(img_hsv,low_red_range,upper_red_range)\n",
    "        img=cv2.bitwise_and(img,img,mask=mask)\n",
    "        cv2.imshow('s',img)\n",
    "        if cv2.waitKey(1) & 0xFF==ord('q'):\n",
    "            break\n",
    "    else:\n",
    "        print('camera is not initalized')\n",
    "        break\n",
    "cap.release()    \n",
    "cv2.destroyAllWindows()\n"
   ]
  },
  {
   "cell_type": "code",
   "execution_count": 36,
   "metadata": {},
   "outputs": [
    {
     "name": "stdout",
     "output_type": "stream",
     "text": [
      "[[[ 60 255 255]]]\n"
     ]
    }
   ],
   "source": [
    "# for knowing and using the green hsv value acc:\n",
    "green=np.uint8([[[0,255,0]]]) # this was to be 3 bracketed. \n",
    "green=cv2.cvtColor(green,cv2.COLOR_BGR2HSV)\n",
    "print(green)\n",
    "# thus range is : H=60 => (h-10,100,100) to (h+10,255,255) as seen below >>>>>\n"
   ]
  },
  {
   "cell_type": "code",
   "execution_count": 42,
   "metadata": {
    "collapsed": true
   },
   "outputs": [],
   "source": [
    "import cv2\n",
    "import numpy as np\n",
    "\n",
    "cap = cv2.VideoCapture(0)\n",
    "\n",
    "while(1):\n",
    "\n",
    "    # Take each frame\n",
    "    _, frame = cap.read()\n",
    "\n",
    "    # Convert BGR to HSV\n",
    "    hsv = cv2.cvtColor(frame, cv2.COLOR_BGR2HSV)\n",
    "\n",
    "    # define range of blue color in HSV\n",
    "    lower_blue = np.array([50,100,100])\n",
    "    upper_blue = np.array([70,255,255])\n",
    "\n",
    "    # Threshold the HSV image to get only blue colors\n",
    "    mask = cv2.inRange(hsv, lower_blue, upper_blue)\n",
    "\n",
    "    # Bitwise-AND mask and original image\n",
    "    res = cv2.bitwise_and(frame,frame, mask= mask)\n",
    "\n",
    "    cv2.imshow('frame',frame)\n",
    "    cv2.imshow('mask',mask)\n",
    "    cv2.imshow('res',res)\n",
    "    k = cv2.waitKey(5) & 0xFF\n",
    "    if k == 27:\n",
    "        break\n",
    "cap.release()\n",
    "cv2.destroyAllWindows()"
   ]
  }
 ],
 "metadata": {
  "kernelspec": {
   "display_name": "Python 3",
   "language": "python",
   "name": "python3"
  },
  "language_info": {
   "codemirror_mode": {
    "name": "ipython",
    "version": 3
   },
   "file_extension": ".py",
   "mimetype": "text/x-python",
   "name": "python",
   "nbconvert_exporter": "python",
   "pygments_lexer": "ipython3",
   "version": "3.6.3"
  }
 },
 "nbformat": 4,
 "nbformat_minor": 2
}
