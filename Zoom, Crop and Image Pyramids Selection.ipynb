{
 "cells": [
  {
   "cell_type": "markdown",
   "metadata": {},
   "source": [
    "# ZOOM AND CROP IMAGE\n",
    "\n",
    "## This code is written as a helper function in the photoshop application\n",
    "#### The code does these things:\n",
    "\n",
    "###### It loads the image given to it\n",
    "###### Select a part of image, by using mouse down and mouse drag. This is coded directly!\n",
    "###### Selected part will open in new window\n",
    "###### Press C to take the cut as the main image\n",
    "###### Press Q or q to quit the application\n",
    "###### Press z or Z to zoom out of the image\n",
    "###### press x or X to zoom in. This wl be multidirectional. The zoom into feature leads to loss of data\n",
    "###### Give it a try!\n",
    "\n"
   ]
  },
  {
   "cell_type": "code",
   "execution_count": 99,
   "metadata": {
    "collapsed": true
   },
   "outputs": [],
   "source": [
    "topRectangle=[]\n",
    "bottomRectangle=[]\n",
    "localMouseDown=False\n",
    "xx=0\n",
    "yy=0\n",
    "XX=0\n",
    "YY=0\n",
    "def onMouse(event,x,y,flags,params):\n",
    "    global xx,yy,XX,YY,backupImage,img,newImage,localMouseDown\n",
    "    \n",
    "    if event==cv2.EVENT_LBUTTONDOWN:\n",
    "        img=backupImage.copy()\n",
    "        localMouseDown=True\n",
    "        xx=x\n",
    "        yy=y\n",
    "    elif event==cv2.EVENT_LBUTTONUP:\n",
    "        localMouseDown=False\n",
    "        XX=x\n",
    "        YY=y\n",
    "        newImage=img[yy:YY,xx:XX].copy()\n",
    "        cv2.rectangle(img,(xx,yy),(XX,YY),(0,255,0),3)\n",
    "        cv2.imshow('newImage',newImage)\n",
    "        return\n",
    "    elif event==cv2.EVENT_MOUSEMOVE and localMouseDown:\n",
    "        # draw the rectangle on the image\n",
    "        XX=x\n",
    "        YY=y\n",
    "        img=backupImage.copy()\n",
    "        cv2.rectangle(img,(xx,yy),(XX,YY),(0,255,0),3)\n",
    "        return\n",
    "        \n",
    "\n",
    "        "
   ]
  },
  {
   "cell_type": "code",
   "execution_count": 100,
   "metadata": {
    "collapsed": true
   },
   "outputs": [],
   "source": [
    "# when we do a mouse down, the part of image should be selected and shown in the same window. Then on control + z, it should \n",
    "# return to the orignal state.\n",
    "\n",
    "import os\n",
    "import numpy as np\n",
    "import cv2\n",
    "import time\n",
    "\n",
    "# img=np.zeros((640,480,3),np.uint8) #create an image that is black\n",
    "img=cv2.imread('colors.jpg',0) # we read an image\n",
    "backupImage=img.copy()\n",
    "cv2.namedWindow('image') #creates an openCv window\n",
    "cv2.setMouseCallback('image',onMouse) # defines what a mouse click should do. So if mouse is clicked, then there is a function associated with that that click which is immediately executed\n",
    "newImage=img.copy()\n",
    "\n",
    "def nothing(x):\n",
    "    pass\n",
    "\n",
    "\n",
    "# global toogle\n",
    "callStack=[]\n",
    "toggle=0\n",
    "\n",
    "while(1):\n",
    "    \n",
    "    cv2.imshow('image',img)\n",
    "    # showed the image\n",
    "    topRectangle=[]\n",
    "    bottomRectangle=[]\n",
    "    \n",
    "    k=cv2.waitKey(1) & 0xFF\n",
    "    if k==ord('q') or k==ord('Q'):\n",
    "        break\n",
    "    elif k==ord('r')or k==ord('R'):\n",
    "        cv2.destroyAllWindows()\n",
    "        cv2.imshow('image',img)\n",
    "        img=backupImage.copy()\n",
    "        print 'Reset the image'\n",
    "    elif k==ord('z')or k==ord('Z'):\n",
    "        # zoom the image\n",
    "        img=cv2.pyrUp(img)\n",
    "    elif k==ord('x')or k==ord('X'):\n",
    "        img=cv2.pyrDown(img)\n",
    "    elif k==ord('c') or k==ord('C'):\n",
    "        # the code for cropping the image.\n",
    "        img=newImage\n",
    "        cv2.destroyWindow('newImage')\n",
    "\n"
   ]
  },
  {
   "cell_type": "code",
   "execution_count": null,
   "metadata": {
    "collapsed": true
   },
   "outputs": [],
   "source": []
  }
 ],
 "metadata": {
  "kernelspec": {
   "display_name": "Python 2",
   "language": "python",
   "name": "python2"
  },
  "language_info": {
   "codemirror_mode": {
    "name": "ipython",
    "version": 2
   },
   "file_extension": ".py",
   "mimetype": "text/x-python",
   "name": "python",
   "nbconvert_exporter": "python",
   "pygments_lexer": "ipython2",
   "version": "2.7.14"
  }
 },
 "nbformat": 4,
 "nbformat_minor": 2
}
